{
 "cells": [
  {
   "cell_type": "markdown",
   "metadata": {},
   "source": [
    "# Data preparation "
   ]
  },
  {
   "cell_type": "code",
   "execution_count": 1,
   "metadata": {},
   "outputs": [],
   "source": [
    "# Importing libs\n",
    "import numpy as np\n",
    "import matplotlib.pyplot as plt\n",
    "import pandas as pd"
   ]
  },
  {
   "cell_type": "code",
   "execution_count": 2,
   "metadata": {},
   "outputs": [],
   "source": [
    "# Importing the dataset \n",
    "dataset = np.loadtxt('flap_data.csv', delimiter=',')\n",
    "X = dataset[:, 0:4]\n",
    "y = dataset[:, -1]"
   ]
  },
  {
   "cell_type": "code",
   "execution_count": 3,
   "metadata": {},
   "outputs": [],
   "source": [
    "# Split into training/test data \n",
    "from sklearn.model_selection import train_test_split \n",
    "X_train, X_test, y_train, y_test = train_test_split(X, y, test_size = 0.2, random_state = 0)"
   ]
  },
  {
   "cell_type": "markdown",
   "metadata": {},
   "source": [
    "# Model building "
   ]
  },
  {
   "cell_type": "code",
   "execution_count": 4,
   "metadata": {},
   "outputs": [
    {
     "name": "stderr",
     "output_type": "stream",
     "text": [
      "Using TensorFlow backend.\n"
     ]
    }
   ],
   "source": [
    "# Importing libs \n",
    "import keras\n",
    "from keras.models import Sequential\n",
    "from keras.layers import Dense"
   ]
  },
  {
   "cell_type": "code",
   "execution_count": 5,
   "metadata": {},
   "outputs": [],
   "source": [
    "# Creating and tuning the model \n",
    "classifier = Sequential()\n",
    "# Input layer \n",
    "classifier.add(Dense(4, kernel_initializer='uniform', activation='relu', input_shape=(4,)))\n",
    "# Hidden layers \n",
    "classifier.add(Dense(4, kernel_initializer='uniform', activation='relu'))\n",
    "# Output layer \n",
    "classifier.add(Dense(1, kernel_initializer='uniform', activation='sigmoid'))\n",
    "# Compile \n",
    "classifier.compile(optimizer='adam', loss='binary_crossentropy', metrics=['accuracy'])"
   ]
  },
  {
   "cell_type": "code",
   "execution_count": 6,
   "metadata": {},
   "outputs": [
    {
     "name": "stdout",
     "output_type": "stream",
     "text": [
      "Epoch 1/100\n",
      "800/800 [==============================] - 0s 261us/step - loss: 0.6935 - acc: 0.5237\n",
      "Epoch 2/100\n",
      "800/800 [==============================] - 0s 118us/step - loss: 0.6924 - acc: 0.5237\n",
      "Epoch 3/100\n",
      "800/800 [==============================] - 0s 117us/step - loss: 0.6915 - acc: 0.5237\n",
      "Epoch 4/100\n",
      "800/800 [==============================] - 0s 117us/step - loss: 0.6902 - acc: 0.5237\n",
      "Epoch 5/100\n",
      "800/800 [==============================] - 0s 116us/step - loss: 0.6886 - acc: 0.5237\n",
      "Epoch 6/100\n",
      "800/800 [==============================] - 0s 117us/step - loss: 0.6860 - acc: 0.5237\n",
      "Epoch 7/100\n",
      "800/800 [==============================] - 0s 118us/step - loss: 0.6832 - acc: 0.5237\n",
      "Epoch 8/100\n",
      "800/800 [==============================] - 0s 115us/step - loss: 0.6802 - acc: 0.5237\n",
      "Epoch 9/100\n",
      "800/800 [==============================] - 0s 117us/step - loss: 0.6759 - acc: 0.5375\n",
      "Epoch 10/100\n",
      "800/800 [==============================] - 0s 121us/step - loss: 0.6718 - acc: 0.5900\n",
      "Epoch 11/100\n",
      "800/800 [==============================] - 0s 117us/step - loss: 0.6684 - acc: 0.5900\n",
      "Epoch 12/100\n",
      "800/800 [==============================] - 0s 121us/step - loss: 0.6698 - acc: 0.6062\n",
      "Epoch 13/100\n",
      "800/800 [==============================] - 0s 184us/step - loss: 0.6614 - acc: 0.6100\n",
      "Epoch 14/100\n",
      "800/800 [==============================] - 0s 170us/step - loss: 0.6563 - acc: 0.6375\n",
      "Epoch 15/100\n",
      "800/800 [==============================] - 0s 117us/step - loss: 0.6554 - acc: 0.6250\n",
      "Epoch 16/100\n",
      "800/800 [==============================] - 0s 119us/step - loss: 0.6479 - acc: 0.6325\n",
      "Epoch 17/100\n",
      "800/800 [==============================] - 0s 125us/step - loss: 0.6443 - acc: 0.6438\n",
      "Epoch 18/100\n",
      "800/800 [==============================] - 0s 134us/step - loss: 0.6349 - acc: 0.6650\n",
      "Epoch 19/100\n",
      "800/800 [==============================] - 0s 219us/step - loss: 0.6299 - acc: 0.6588\n",
      "Epoch 20/100\n",
      "800/800 [==============================] - 0s 156us/step - loss: 0.6253 - acc: 0.6613\n",
      "Epoch 21/100\n",
      "800/800 [==============================] - 0s 135us/step - loss: 0.6203 - acc: 0.6913\n",
      "Epoch 22/100\n",
      "800/800 [==============================] - 0s 178us/step - loss: 0.6187 - acc: 0.6788\n",
      "Epoch 23/100\n",
      "800/800 [==============================] - 0s 237us/step - loss: 0.6126 - acc: 0.6737\n",
      "Epoch 24/100\n",
      "800/800 [==============================] - 0s 188us/step - loss: 0.6101 - acc: 0.7037\n",
      "Epoch 25/100\n",
      "800/800 [==============================] - 0s 188us/step - loss: 0.6060 - acc: 0.6875\n",
      "Epoch 26/100\n",
      "800/800 [==============================] - 0s 185us/step - loss: 0.6120 - acc: 0.6863\n",
      "Epoch 27/100\n",
      "800/800 [==============================] - 0s 122us/step - loss: 0.6043 - acc: 0.7137\n",
      "Epoch 28/100\n",
      "800/800 [==============================] - 0s 118us/step - loss: 0.6056 - acc: 0.6737\n",
      "Epoch 29/100\n",
      "800/800 [==============================] - 0s 135us/step - loss: 0.5959 - acc: 0.7037\n",
      "Epoch 30/100\n",
      "800/800 [==============================] - 0s 120us/step - loss: 0.5941 - acc: 0.7050\n",
      "Epoch 31/100\n",
      "800/800 [==============================] - 0s 131us/step - loss: 0.5996 - acc: 0.7100\n",
      "Epoch 32/100\n",
      "800/800 [==============================] - 0s 114us/step - loss: 0.5942 - acc: 0.6913\n",
      "Epoch 33/100\n",
      "800/800 [==============================] - 0s 121us/step - loss: 0.6013 - acc: 0.6962\n",
      "Epoch 34/100\n",
      "800/800 [==============================] - 0s 128us/step - loss: 0.5931 - acc: 0.7137\n",
      "Epoch 35/100\n",
      "800/800 [==============================] - 0s 130us/step - loss: 0.5898 - acc: 0.7175\n",
      "Epoch 36/100\n",
      "800/800 [==============================] - 0s 127us/step - loss: 0.5851 - acc: 0.7225\n",
      "Epoch 37/100\n",
      "800/800 [==============================] - 0s 140us/step - loss: 0.5830 - acc: 0.7162\n",
      "Epoch 38/100\n",
      "800/800 [==============================] - 0s 213us/step - loss: 0.5867 - acc: 0.7125\n",
      "Epoch 39/100\n",
      "800/800 [==============================] - 0s 170us/step - loss: 0.5825 - acc: 0.6987\n",
      "Epoch 40/100\n",
      "800/800 [==============================] - 0s 185us/step - loss: 0.5792 - acc: 0.7162\n",
      "Epoch 41/100\n",
      "800/800 [==============================] - 0s 173us/step - loss: 0.5864 - acc: 0.7137\n",
      "Epoch 42/100\n",
      "800/800 [==============================] - 0s 173us/step - loss: 0.5789 - acc: 0.7150\n",
      "Epoch 43/100\n",
      "800/800 [==============================] - 0s 115us/step - loss: 0.5728 - acc: 0.7200\n",
      "Epoch 44/100\n",
      "800/800 [==============================] - 0s 112us/step - loss: 0.5808 - acc: 0.7312\n",
      "Epoch 45/100\n",
      "800/800 [==============================] - 0s 124us/step - loss: 0.5761 - acc: 0.7250\n",
      "Epoch 46/100\n",
      "800/800 [==============================] - 0s 122us/step - loss: 0.5865 - acc: 0.7137\n",
      "Epoch 47/100\n",
      "800/800 [==============================] - 0s 111us/step - loss: 0.5760 - acc: 0.7213\n",
      "Epoch 48/100\n",
      "800/800 [==============================] - 0s 117us/step - loss: 0.5762 - acc: 0.7375\n",
      "Epoch 49/100\n",
      "800/800 [==============================] - 0s 115us/step - loss: 0.5703 - acc: 0.7288\n",
      "Epoch 50/100\n",
      "800/800 [==============================] - 0s 119us/step - loss: 0.5676 - acc: 0.7300\n",
      "Epoch 51/100\n",
      "800/800 [==============================] - 0s 191us/step - loss: 0.5722 - acc: 0.7325\n",
      "Epoch 52/100\n",
      "800/800 [==============================] - 0s 186us/step - loss: 0.5721 - acc: 0.7388\n",
      "Epoch 53/100\n",
      "800/800 [==============================] - 0s 190us/step - loss: 0.5644 - acc: 0.7200\n",
      "Epoch 54/100\n",
      "800/800 [==============================] - 0s 183us/step - loss: 0.5641 - acc: 0.7362\n",
      "Epoch 55/100\n",
      "800/800 [==============================] - 0s 155us/step - loss: 0.5674 - acc: 0.7338\n",
      "Epoch 56/100\n",
      "800/800 [==============================] - 0s 151us/step - loss: 0.5604 - acc: 0.7338\n",
      "Epoch 57/100\n",
      "800/800 [==============================] - 0s 124us/step - loss: 0.5611 - acc: 0.7375\n",
      "Epoch 58/100\n",
      "800/800 [==============================] - 0s 108us/step - loss: 0.5649 - acc: 0.7312\n",
      "Epoch 59/100\n",
      "800/800 [==============================] - 0s 109us/step - loss: 0.5907 - acc: 0.6800\n",
      "Epoch 60/100\n",
      "800/800 [==============================] - 0s 103us/step - loss: 0.5604 - acc: 0.7200\n",
      "Epoch 61/100\n",
      "800/800 [==============================] - 0s 109us/step - loss: 0.5611 - acc: 0.7100\n",
      "Epoch 62/100\n",
      "800/800 [==============================] - 0s 103us/step - loss: 0.5646 - acc: 0.7213\n",
      "Epoch 63/100\n",
      "800/800 [==============================] - 0s 109us/step - loss: 0.5639 - acc: 0.7250\n",
      "Epoch 64/100\n",
      "800/800 [==============================] - 0s 107us/step - loss: 0.5564 - acc: 0.7213\n",
      "Epoch 65/100\n",
      "800/800 [==============================] - 0s 109us/step - loss: 0.5597 - acc: 0.7312\n",
      "Epoch 66/100\n",
      "800/800 [==============================] - 0s 105us/step - loss: 0.5608 - acc: 0.7300\n",
      "Epoch 67/100\n",
      "800/800 [==============================] - 0s 101us/step - loss: 0.5698 - acc: 0.7137\n",
      "Epoch 68/100\n",
      "800/800 [==============================] - 0s 108us/step - loss: 0.5864 - acc: 0.6925\n",
      "Epoch 69/100\n",
      "800/800 [==============================] - 0s 186us/step - loss: 0.5768 - acc: 0.7013\n",
      "Epoch 70/100\n",
      "800/800 [==============================] - 0s 111us/step - loss: 0.5585 - acc: 0.7312\n",
      "Epoch 71/100\n",
      "800/800 [==============================] - 0s 104us/step - loss: 0.5603 - acc: 0.7275\n",
      "Epoch 72/100\n",
      "800/800 [==============================] - 0s 112us/step - loss: 0.5611 - acc: 0.7137\n",
      "Epoch 73/100\n",
      "800/800 [==============================] - 0s 164us/step - loss: 0.5586 - acc: 0.7087\n",
      "Epoch 74/100\n",
      "800/800 [==============================] - 0s 113us/step - loss: 0.5602 - acc: 0.7200\n",
      "Epoch 75/100\n",
      "800/800 [==============================] - 0s 112us/step - loss: 0.5546 - acc: 0.7250\n",
      "Epoch 76/100\n",
      "800/800 [==============================] - 0s 114us/step - loss: 0.5563 - acc: 0.7288\n",
      "Epoch 77/100\n",
      "800/800 [==============================] - 0s 115us/step - loss: 0.5531 - acc: 0.7213\n",
      "Epoch 78/100\n",
      "800/800 [==============================] - 0s 120us/step - loss: 0.5542 - acc: 0.7238\n",
      "Epoch 79/100\n",
      "800/800 [==============================] - 0s 110us/step - loss: 0.5579 - acc: 0.7288\n",
      "Epoch 80/100\n",
      "800/800 [==============================] - 0s 113us/step - loss: 0.5606 - acc: 0.7213\n",
      "Epoch 81/100\n",
      "800/800 [==============================] - 0s 110us/step - loss: 0.5536 - acc: 0.7312\n",
      "Epoch 82/100\n",
      "800/800 [==============================] - 0s 109us/step - loss: 0.5543 - acc: 0.7200\n",
      "Epoch 83/100\n"
     ]
    },
    {
     "name": "stdout",
     "output_type": "stream",
     "text": [
      "800/800 [==============================] - 0s 113us/step - loss: 0.5530 - acc: 0.7362\n",
      "Epoch 84/100\n",
      "800/800 [==============================] - 0s 104us/step - loss: 0.5576 - acc: 0.7275\n",
      "Epoch 85/100\n",
      "800/800 [==============================] - 0s 159us/step - loss: 0.5531 - acc: 0.7312\n",
      "Epoch 86/100\n",
      "800/800 [==============================] - 0s 115us/step - loss: 0.5693 - acc: 0.7188\n",
      "Epoch 87/100\n",
      "800/800 [==============================] - 0s 114us/step - loss: 0.5489 - acc: 0.7312\n",
      "Epoch 88/100\n",
      "800/800 [==============================] - 0s 116us/step - loss: 0.5481 - acc: 0.7200\n",
      "Epoch 89/100\n",
      "800/800 [==============================] - 0s 125us/step - loss: 0.5517 - acc: 0.7263\n",
      "Epoch 90/100\n",
      "800/800 [==============================] - 0s 130us/step - loss: 0.5532 - acc: 0.7213\n",
      "Epoch 91/100\n",
      "800/800 [==============================] - 0s 127us/step - loss: 0.5472 - acc: 0.7388\n",
      "Epoch 92/100\n",
      "800/800 [==============================] - 0s 113us/step - loss: 0.5545 - acc: 0.7375\n",
      "Epoch 93/100\n",
      "800/800 [==============================] - 0s 170us/step - loss: 0.5479 - acc: 0.7425\n",
      "Epoch 94/100\n",
      "800/800 [==============================] - 0s 178us/step - loss: 0.5477 - acc: 0.7312\n",
      "Epoch 95/100\n",
      "800/800 [==============================] - 0s 208us/step - loss: 0.5574 - acc: 0.7288\n",
      "Epoch 96/100\n",
      "800/800 [==============================] - 0s 196us/step - loss: 0.5605 - acc: 0.7175\n",
      "Epoch 97/100\n",
      "800/800 [==============================] - 0s 178us/step - loss: 0.5530 - acc: 0.7312\n",
      "Epoch 98/100\n",
      "800/800 [==============================] - 0s 163us/step - loss: 0.5576 - acc: 0.7275\n",
      "Epoch 99/100\n",
      "800/800 [==============================] - 0s 112us/step - loss: 0.5488 - acc: 0.7338\n",
      "Epoch 100/100\n",
      "800/800 [==============================] - 0s 112us/step - loss: 0.5443 - acc: 0.7350\n"
     ]
    },
    {
     "data": {
      "text/plain": [
       "<keras.callbacks.History at 0x1a1116bd30>"
      ]
     },
     "execution_count": 6,
     "metadata": {},
     "output_type": "execute_result"
    }
   ],
   "source": [
    "# Fit the ANN to the training set \n",
    "classifier.fit(X_train, y_train, epochs=100)"
   ]
  },
  {
   "cell_type": "markdown",
   "metadata": {},
   "source": [
    "# Evaluating the model "
   ]
  },
  {
   "cell_type": "code",
   "execution_count": 7,
   "metadata": {},
   "outputs": [],
   "source": [
    "# Imports \n",
    "from sklearn.metrics import confusion_matrix"
   ]
  },
  {
   "cell_type": "code",
   "execution_count": 8,
   "metadata": {},
   "outputs": [],
   "source": [
    "# Predict on test set \n",
    "y_pred = classifier.predict(X_test)\n",
    "y_pred = (y_pred > 0.5)\n",
    "# Creating the confusion matrix \n",
    "cm = confusion_matrix(y_test, y_pred)"
   ]
  },
  {
   "cell_type": "markdown",
   "metadata": {},
   "source": [
    "# Output model "
   ]
  },
  {
   "cell_type": "code",
   "execution_count": 9,
   "metadata": {},
   "outputs": [],
   "source": [
    "classifier.save('flappy_classifier')"
   ]
  },
  {
   "cell_type": "code",
   "execution_count": 10,
   "metadata": {},
   "outputs": [
    {
     "ename": "ValueError",
     "evalue": "Error when checking : expected dense_1_input to have shape (4,) but got array with shape (1,)",
     "output_type": "error",
     "traceback": [
      "\u001b[0;31m---------------------------------------------------------------------------\u001b[0m",
      "\u001b[0;31mValueError\u001b[0m                                Traceback (most recent call last)",
      "\u001b[0;32m<ipython-input-10-0864e502ee6b>\u001b[0m in \u001b[0;36m<module>\u001b[0;34m()\u001b[0m\n\u001b[0;32m----> 1\u001b[0;31m \u001b[0mclassifier\u001b[0m\u001b[0;34m.\u001b[0m\u001b[0mpredict\u001b[0m\u001b[0;34m(\u001b[0m\u001b[0mnp\u001b[0m\u001b[0;34m.\u001b[0m\u001b[0marray\u001b[0m\u001b[0;34m(\u001b[0m\u001b[0;34m[\u001b[0m\u001b[0;36m1\u001b[0m\u001b[0;34m,\u001b[0m \u001b[0;36m2\u001b[0m\u001b[0;34m,\u001b[0m \u001b[0;36m3\u001b[0m\u001b[0;34m,\u001b[0m \u001b[0;36m4\u001b[0m\u001b[0;34m]\u001b[0m\u001b[0;34m)\u001b[0m\u001b[0;34m)\u001b[0m\u001b[0;34m\u001b[0m\u001b[0m\n\u001b[0m",
      "\u001b[0;32m/usr/local/anaconda3/envs/dl_az/lib/python3.5/site-packages/keras/models.py\u001b[0m in \u001b[0;36mpredict\u001b[0;34m(self, x, batch_size, verbose, steps)\u001b[0m\n\u001b[1;32m   1023\u001b[0m             \u001b[0mself\u001b[0m\u001b[0;34m.\u001b[0m\u001b[0mbuild\u001b[0m\u001b[0;34m(\u001b[0m\u001b[0;34m)\u001b[0m\u001b[0;34m\u001b[0m\u001b[0m\n\u001b[1;32m   1024\u001b[0m         return self.model.predict(x, batch_size=batch_size, verbose=verbose,\n\u001b[0;32m-> 1025\u001b[0;31m                                   steps=steps)\n\u001b[0m\u001b[1;32m   1026\u001b[0m \u001b[0;34m\u001b[0m\u001b[0m\n\u001b[1;32m   1027\u001b[0m     \u001b[0;32mdef\u001b[0m \u001b[0mpredict_on_batch\u001b[0m\u001b[0;34m(\u001b[0m\u001b[0mself\u001b[0m\u001b[0;34m,\u001b[0m \u001b[0mx\u001b[0m\u001b[0;34m)\u001b[0m\u001b[0;34m:\u001b[0m\u001b[0;34m\u001b[0m\u001b[0m\n",
      "\u001b[0;32m/usr/local/anaconda3/envs/dl_az/lib/python3.5/site-packages/keras/engine/training.py\u001b[0m in \u001b[0;36mpredict\u001b[0;34m(self, x, batch_size, verbose, steps)\u001b[0m\n\u001b[1;32m   1815\u001b[0m         x = _standardize_input_data(x, self._feed_input_names,\n\u001b[1;32m   1816\u001b[0m                                     \u001b[0mself\u001b[0m\u001b[0;34m.\u001b[0m\u001b[0m_feed_input_shapes\u001b[0m\u001b[0;34m,\u001b[0m\u001b[0;34m\u001b[0m\u001b[0m\n\u001b[0;32m-> 1817\u001b[0;31m                                     check_batch_axis=False)\n\u001b[0m\u001b[1;32m   1818\u001b[0m         \u001b[0;32mif\u001b[0m \u001b[0mself\u001b[0m\u001b[0;34m.\u001b[0m\u001b[0mstateful\u001b[0m\u001b[0;34m:\u001b[0m\u001b[0;34m\u001b[0m\u001b[0m\n\u001b[1;32m   1819\u001b[0m             \u001b[0;32mif\u001b[0m \u001b[0mx\u001b[0m\u001b[0;34m[\u001b[0m\u001b[0;36m0\u001b[0m\u001b[0;34m]\u001b[0m\u001b[0;34m.\u001b[0m\u001b[0mshape\u001b[0m\u001b[0;34m[\u001b[0m\u001b[0;36m0\u001b[0m\u001b[0;34m]\u001b[0m \u001b[0;34m>\u001b[0m \u001b[0mbatch_size\u001b[0m \u001b[0;32mand\u001b[0m \u001b[0mx\u001b[0m\u001b[0;34m[\u001b[0m\u001b[0;36m0\u001b[0m\u001b[0;34m]\u001b[0m\u001b[0;34m.\u001b[0m\u001b[0mshape\u001b[0m\u001b[0;34m[\u001b[0m\u001b[0;36m0\u001b[0m\u001b[0;34m]\u001b[0m \u001b[0;34m%\u001b[0m \u001b[0mbatch_size\u001b[0m \u001b[0;34m!=\u001b[0m \u001b[0;36m0\u001b[0m\u001b[0;34m:\u001b[0m\u001b[0;34m\u001b[0m\u001b[0m\n",
      "\u001b[0;32m/usr/local/anaconda3/envs/dl_az/lib/python3.5/site-packages/keras/engine/training.py\u001b[0m in \u001b[0;36m_standardize_input_data\u001b[0;34m(data, names, shapes, check_batch_axis, exception_prefix)\u001b[0m\n\u001b[1;32m    121\u001b[0m                             \u001b[0;34m': expected '\u001b[0m \u001b[0;34m+\u001b[0m \u001b[0mnames\u001b[0m\u001b[0;34m[\u001b[0m\u001b[0mi\u001b[0m\u001b[0;34m]\u001b[0m \u001b[0;34m+\u001b[0m \u001b[0;34m' to have shape '\u001b[0m \u001b[0;34m+\u001b[0m\u001b[0;34m\u001b[0m\u001b[0m\n\u001b[1;32m    122\u001b[0m                             \u001b[0mstr\u001b[0m\u001b[0;34m(\u001b[0m\u001b[0mshape\u001b[0m\u001b[0;34m)\u001b[0m \u001b[0;34m+\u001b[0m \u001b[0;34m' but got array with shape '\u001b[0m \u001b[0;34m+\u001b[0m\u001b[0;34m\u001b[0m\u001b[0m\n\u001b[0;32m--> 123\u001b[0;31m                             str(data_shape))\n\u001b[0m\u001b[1;32m    124\u001b[0m     \u001b[0;32mreturn\u001b[0m \u001b[0mdata\u001b[0m\u001b[0;34m\u001b[0m\u001b[0m\n\u001b[1;32m    125\u001b[0m \u001b[0;34m\u001b[0m\u001b[0m\n",
      "\u001b[0;31mValueError\u001b[0m: Error when checking : expected dense_1_input to have shape (4,) but got array with shape (1,)"
     ]
    }
   ],
   "source": [
    "classifier.predict(np.array([1, 2, 3, 4]))"
   ]
  },
  {
   "cell_type": "code",
   "execution_count": 11,
   "metadata": {},
   "outputs": [
    {
     "data": {
      "text/plain": [
       "array([[ 0.63298452]], dtype=float32)"
      ]
     },
     "execution_count": 11,
     "metadata": {},
     "output_type": "execute_result"
    }
   ],
   "source": [
    "classifier.predict(np.array([[1, 2, 3, 4]]))"
   ]
  },
  {
   "cell_type": "code",
   "execution_count": null,
   "metadata": {},
   "outputs": [],
   "source": []
  }
 ],
 "metadata": {
  "kernelspec": {
   "display_name": "Python 3",
   "language": "python",
   "name": "python3"
  },
  "language_info": {
   "codemirror_mode": {
    "name": "ipython",
    "version": 3
   },
   "file_extension": ".py",
   "mimetype": "text/x-python",
   "name": "python",
   "nbconvert_exporter": "python",
   "pygments_lexer": "ipython3",
   "version": "3.5.4"
  }
 },
 "nbformat": 4,
 "nbformat_minor": 2
}
