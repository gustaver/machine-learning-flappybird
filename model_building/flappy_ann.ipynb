{
 "cells": [
  {
   "cell_type": "markdown",
   "metadata": {},
   "source": [
    "# Data preparation "
   ]
  },
  {
   "cell_type": "code",
   "execution_count": 33,
   "metadata": {},
   "outputs": [],
   "source": [
    "# Importing libs\n",
    "import numpy as np\n",
    "import matplotlib.pyplot as plt\n",
    "import pandas as pd"
   ]
  },
  {
   "cell_type": "code",
   "execution_count": 34,
   "metadata": {},
   "outputs": [],
   "source": [
    "# Importing the dataset \n",
    "dataset = np.loadtxt('flap_data.csv', delimiter=',')\n",
    "X = dataset[:, 0:4]\n",
    "y = dataset[:, -1]"
   ]
  },
  {
   "cell_type": "code",
   "execution_count": 35,
   "metadata": {},
   "outputs": [],
   "source": [
    "# Split into training/test data \n",
    "from sklearn.model_selection import train_test_split \n",
    "X_train, X_test, y_train, y_test = train_test_split(X, y, test_size = 0.2, random_state = 0)"
   ]
  },
  {
   "cell_type": "markdown",
   "metadata": {},
   "source": [
    "# Model building "
   ]
  },
  {
   "cell_type": "code",
   "execution_count": 36,
   "metadata": {},
   "outputs": [],
   "source": [
    "# Importing libs \n",
    "import keras\n",
    "from keras.models import Sequential\n",
    "from keras.layers import Dense"
   ]
  },
  {
   "cell_type": "code",
   "execution_count": null,
   "metadata": {},
   "outputs": [],
   "source": [
    "# Creating and tuning the model \n",
    "classifier = Sequential()\n",
    "# Input layer \n",
    "classifier.add(Dense(4, kernel_initializer='uniform', activation='relu', input_shape=(4,)))\n",
    "# Hidden layers \n",
    "classifier.add(Dense(4, kernel_initializer='uniform', activation='relu'))\n",
    "# Output layer \n",
    "classifier.add(Dense(1, kernel_initializer='uniform', activation='sigmoid'))\n",
    "# Compile \n",
    "classifier.compile(optimizer='adam', loss='binary_crossentropy', metrics=['accuracy'])"
   ]
  },
  {
   "cell_type": "code",
   "execution_count": null,
   "metadata": {},
   "outputs": [
    {
     "name": "stdout",
     "output_type": "stream",
     "text": [
      "Epoch 1/100\n",
      "800/800 [==============================] - 0s 584us/step - loss: 0.6932 - acc: 0.5075\n",
      "Epoch 2/100\n",
      "800/800 [==============================] - 0s 366us/step - loss: 0.6926 - acc: 0.5238\n",
      "Epoch 3/100\n",
      "800/800 [==============================] - 0s 360us/step - loss: 0.6921 - acc: 0.5238\n",
      "Epoch 4/100\n",
      "800/800 [==============================] - 0s 357us/step - loss: 0.6910 - acc: 0.5238\n",
      "Epoch 5/100\n",
      "800/800 [==============================] - 0s 386us/step - loss: 0.6897 - acc: 0.5238\n",
      "Epoch 6/100\n",
      "800/800 [==============================] - 0s 348us/step - loss: 0.6875 - acc: 0.5238\n",
      "Epoch 7/100\n",
      "800/800 [==============================] - 0s 363us/step - loss: 0.6863 - acc: 0.5038\n",
      "Epoch 8/100\n",
      "800/800 [==============================] - 0s 378us/step - loss: 0.6861 - acc: 0.5238\n",
      "Epoch 9/100\n",
      "800/800 [==============================] - 0s 462us/step - loss: 0.6840 - acc: 0.5300\n",
      "Epoch 10/100\n",
      "800/800 [==============================] - 0s 368us/step - loss: 0.6824 - acc: 0.5388\n",
      "Epoch 11/100\n",
      "800/800 [==============================] - 0s 374us/step - loss: 0.6807 - acc: 0.5388\n",
      "Epoch 12/100\n",
      "800/800 [==============================] - 0s 382us/step - loss: 0.6791 - acc: 0.5525\n",
      "Epoch 13/100\n",
      "800/800 [==============================] - 0s 378us/step - loss: 0.6769 - acc: 0.5613\n",
      "Epoch 14/100\n",
      " 10/800 [..............................] - ETA: 0s - loss: 0.6633 - acc: 0.6000"
     ]
    }
   ],
   "source": [
    "# Fit the ANN to the training set \n",
    "classifier.fit(X_train, y_train, batch_size=10, epochs=100)"
   ]
  },
  {
   "cell_type": "markdown",
   "metadata": {},
   "source": [
    "# Evaluating the model "
   ]
  },
  {
   "cell_type": "code",
   "execution_count": null,
   "metadata": {},
   "outputs": [],
   "source": [
    "# Imports \n",
    "from sklearn.metrics import confusion_matrix"
   ]
  },
  {
   "cell_type": "code",
   "execution_count": null,
   "metadata": {},
   "outputs": [],
   "source": [
    "# Predict on test set \n",
    "y_pred = classifier.predict(X_test)\n",
    "y_pred = (y_pred > 0.5)\n",
    "# Creating the confusion matrix \n",
    "cm = confusion_matrix(y_test, y_pred)"
   ]
  },
  {
   "cell_type": "markdown",
   "metadata": {},
   "source": [
    "# Output model "
   ]
  },
  {
   "cell_type": "code",
   "execution_count": null,
   "metadata": {},
   "outputs": [],
   "source": [
    "classifier.save('flappy_classifier')"
   ]
  },
  {
   "cell_type": "code",
   "execution_count": null,
   "metadata": {},
   "outputs": [],
   "source": []
  }
 ],
 "metadata": {
  "kernelspec": {
   "display_name": "Python 3",
   "language": "python",
   "name": "python3"
  },
  "language_info": {
   "codemirror_mode": {
    "name": "ipython",
    "version": 3
   },
   "file_extension": ".py",
   "mimetype": "text/x-python",
   "name": "python",
   "nbconvert_exporter": "python",
   "pygments_lexer": "ipython3",
   "version": "3.5.4"
  }
 },
 "nbformat": 4,
 "nbformat_minor": 2
}
